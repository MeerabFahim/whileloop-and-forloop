{
 "cells": [
  {
   "cell_type": "code",
   "execution_count": null,
   "id": "affa81f4-64ad-4d64-b424-781b49d0c6df",
   "metadata": {},
   "outputs": [],
   "source": [
    "# Program to count from 1 to 10 using a while loop\n",
    "i = 1\n",
    "while i <= 10:\n",
    "    print(i)\n",
    "    i += 1\n"
   ]
  },
  {
   "cell_type": "code",
   "execution_count": null,
   "id": "2e9812a5-6115-41d7-9ae8-d391b18d751f",
   "metadata": {},
   "outputs": [],
   "source": [
    "# Program to print all even numbers from 1 to 20\n",
    "i = 1\n",
    "while i <= 20:\n",
    "    if i % 2 == 0:\n",
    "        print(i)\n",
    "    i += 1\n"
   ]
  },
  {
   "cell_type": "code",
   "execution_count": null,
   "id": "ab733b33-4e39-4b2c-bf4b-ef5961ed303c",
   "metadata": {},
   "outputs": [],
   "source": []
  }
 ],
 "metadata": {
  "kernelspec": {
   "display_name": "Python 3 (ipykernel)",
   "language": "python",
   "name": "python3"
  },
  "language_info": {
   "codemirror_mode": {
    "name": "ipython",
    "version": 3
   },
   "file_extension": ".py",
   "mimetype": "text/x-python",
   "name": "python",
   "nbconvert_exporter": "python",
   "pygments_lexer": "ipython3",
   "version": "3.12.7"
  }
 },
 "nbformat": 4,
 "nbformat_minor": 5
}
